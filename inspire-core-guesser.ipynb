{
 "cells": [
  {
   "cell_type": "code",
   "execution_count": 1,
   "metadata": {},
   "outputs": [
    {
     "name": "stderr",
     "output_type": "stream",
     "text": [
      "Using TensorFlow backend.\n"
     ]
    }
   ],
   "source": [
    "import matplotlib.pyplot as plt\n",
    "\n",
    "from keras.layers import Embedding, Dense, Flatten\n",
    "from keras.models import Sequential\n",
    "from keras.preprocessing.sequence import pad_sequences\n",
    "from keras.preprocessing.text import Tokenizer\n",
    "from keras.utils import to_categorical"
   ]
  },
  {
   "cell_type": "code",
   "execution_count": 2,
   "metadata": {},
   "outputs": [],
   "source": [
    "texts, labels = [], []\n",
    "\n",
    "with open('data.txt') as f:\n",
    "    for line in f:\n",
    "        text, label = line.strip().split(' ENDABSTRACTS ')\n",
    "        \n",
    "        text = text.replace(' ENDABSTRACT ', '. ')\n",
    "        text = text.replace(' ENDTITLE ', '. ')\n",
    "        text = text.replace(' ENDTITLES ', '. ')\n",
    "        \n",
    "        if label == 'CORE':\n",
    "            label = 1\n",
    "        elif label == 'Non-CORE':\n",
    "            label = 0\n",
    "        elif label == 'Rejected':\n",
    "            label = -1\n",
    "        \n",
    "        texts.append(text)\n",
    "        labels.append(label)"
   ]
  },
  {
   "cell_type": "code",
   "execution_count": 3,
   "metadata": {},
   "outputs": [],
   "source": [
    "tokenizer = Tokenizer(num_words=10000)\n",
    "tokenizer.fit_on_texts(texts)\n",
    "sequences = tokenizer.texts_to_sequences(texts)\n",
    "data = pad_sequences(sequences, maxlen=100)"
   ]
  },
  {
   "cell_type": "code",
   "execution_count": 4,
   "metadata": {},
   "outputs": [],
   "source": [
    "labels = to_categorical(labels, num_classes=3)"
   ]
  },
  {
   "cell_type": "code",
   "execution_count": 5,
   "metadata": {},
   "outputs": [],
   "source": [
    "training_samples = 3 * len(data) // 5\n",
    "validation_samples = len(data) // 5"
   ]
  },
  {
   "cell_type": "code",
   "execution_count": 6,
   "metadata": {},
   "outputs": [],
   "source": [
    "x_train = data[:training_samples]\n",
    "y_train = labels[:training_samples]\n",
    "x_val = data[training_samples:training_samples + validation_samples]\n",
    "y_val = labels[training_samples:training_samples + validation_samples]\n",
    "x_test = data[training_samples + validation_samples:]\n",
    "y_test = labels[training_samples + validation_samples:]"
   ]
  },
  {
   "cell_type": "code",
   "execution_count": 7,
   "metadata": {},
   "outputs": [
    {
     "name": "stdout",
     "output_type": "stream",
     "text": [
      "_________________________________________________________________\n",
      "Layer (type)                 Output Shape              Param #   \n",
      "=================================================================\n",
      "embedding_1 (Embedding)      (None, 100, 100)          1000000   \n",
      "_________________________________________________________________\n",
      "flatten_1 (Flatten)          (None, 10000)             0         \n",
      "_________________________________________________________________\n",
      "dense_1 (Dense)              (None, 32)                320032    \n",
      "_________________________________________________________________\n",
      "dense_2 (Dense)              (None, 32)                1056      \n",
      "_________________________________________________________________\n",
      "dense_3 (Dense)              (None, 3)                 99        \n",
      "=================================================================\n",
      "Total params: 1,321,187\n",
      "Trainable params: 1,321,187\n",
      "Non-trainable params: 0\n",
      "_________________________________________________________________\n"
     ]
    }
   ],
   "source": [
    "model = Sequential()\n",
    "model.add(Embedding(10000, 100, input_length=100))\n",
    "model.add(Flatten())\n",
    "model.add(Dense(32, activation='relu'))\n",
    "model.add(Dense(32, activation='relu'))\n",
    "model.add(Dense(3, activation='softmax'))\n",
    "model.summary()"
   ]
  },
  {
   "cell_type": "code",
   "execution_count": 8,
   "metadata": {},
   "outputs": [],
   "source": [
    "model.compile(optimizer='rmsprop', loss='categorical_crossentropy', metrics=['acc'])"
   ]
  },
  {
   "cell_type": "code",
   "execution_count": 9,
   "metadata": {},
   "outputs": [
    {
     "name": "stdout",
     "output_type": "stream",
     "text": [
      "Train on 21418 samples, validate on 7139 samples\n",
      "Epoch 1/10\n",
      "21418/21418 [==============================] - 1s - loss: 0.3640 - acc: 0.8847 - val_loss: 0.3175 - val_acc: 0.8966\n",
      "Epoch 2/10\n",
      "21418/21418 [==============================] - 1s - loss: 0.1824 - acc: 0.9331 - val_loss: 0.3881 - val_acc: 0.8826\n",
      "Epoch 3/10\n",
      "21418/21418 [==============================] - 1s - loss: 0.0675 - acc: 0.9787 - val_loss: 0.5485 - val_acc: 0.8850\n",
      "Epoch 4/10\n",
      "21418/21418 [==============================] - 1s - loss: 0.0394 - acc: 0.9894 - val_loss: 0.6022 - val_acc: 0.8780\n",
      "Epoch 5/10\n",
      "21418/21418 [==============================] - 1s - loss: 0.0254 - acc: 0.9925 - val_loss: 0.7925 - val_acc: 0.8724\n",
      "Epoch 6/10\n",
      "21418/21418 [==============================] - 1s - loss: 0.0164 - acc: 0.9944 - val_loss: 0.8473 - val_acc: 0.8553\n",
      "Epoch 7/10\n",
      "21418/21418 [==============================] - 1s - loss: 0.0123 - acc: 0.9945 - val_loss: 1.0869 - val_acc: 0.8430\n",
      "Epoch 8/10\n",
      "21418/21418 [==============================] - 1s - loss: 0.0115 - acc: 0.9946 - val_loss: 1.1446 - val_acc: 0.8659\n",
      "Epoch 9/10\n",
      "21418/21418 [==============================] - 1s - loss: 0.0099 - acc: 0.9953 - val_loss: 1.2158 - val_acc: 0.8466\n",
      "Epoch 10/10\n",
      "21418/21418 [==============================] - 1s - loss: 0.0109 - acc: 0.9957 - val_loss: 1.1882 - val_acc: 0.8616\n"
     ]
    }
   ],
   "source": [
    "history = model.fit(x_train, y_train, epochs=10, batch_size=32, validation_data=(x_val, y_val))"
   ]
  },
  {
   "cell_type": "code",
   "execution_count": 10,
   "metadata": {},
   "outputs": [
    {
     "data": {
      "image/png": "[encoded data removed]",
      "text/plain": [
       "<matplotlib.figure.Figure at 0x7f25f63a0da0>"
      ]
     },
     "metadata": {},
     "output_type": "display_data"
    }
   ],
   "source": [
    "acc = history.history['acc']\n",
    "val_acc = history.history['val_acc']\n",
    "\n",
    "epochs = range(1, len(acc) + 1)\n",
    "\n",
    "plt.figure(figsize=(16, 9))\n",
    "plt.plot(epochs, acc, 'bo', label='Training acc')\n",
    "plt.plot(epochs, val_acc, 'b', label='Validation acc')\n",
    "plt.title('Training and validation accuracy')\n",
    "plt.legend()\n",
    "\n",
    "plt.show()"
   ]
  },
  {
   "cell_type": "code",
   "execution_count": 11,
   "metadata": {},
   "outputs": [
    {
     "name": "stdout",
     "output_type": "stream",
     "text": [
      "5024/7141 [====================>.........] - ETA: 0s"
     ]
    }
   ],
   "source": [
    "_, acc = model.evaluate(x_test, y_test)"
   ]
  },
  {
   "cell_type": "code",
   "execution_count": 12,
   "metadata": {},
   "outputs": [
    {
     "data": {
      "text/plain": [
       "0.86612519255006304"
      ]
     },
     "execution_count": 12,
     "metadata": {},
     "output_type": "execute_result"
    }
   ],
   "source": [
    "acc"
   ]
  }
 ],
 "metadata": {
  "kernelspec": {
   "display_name": "Python 3",
   "language": "python",
   "name": "python3"
  },
  "language_info": {
   "codemirror_mode": {
    "name": "ipython",
    "version": 3
   },
   "file_extension": ".py",
   "mimetype": "text/x-python",
   "name": "python",
   "nbconvert_exporter": "python",
   "pygments_lexer": "ipython3",
   "version": "3.6.4"
  }
 },
 "nbformat": 4,
 "nbformat_minor": 2
}
