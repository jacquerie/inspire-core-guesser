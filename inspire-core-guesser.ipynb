{
 "cells": [
  {
   "cell_type": "code",
   "execution_count": 1,
   "metadata": {},
   "outputs": [
    {
     "name": "stderr",
     "output_type": "stream",
     "text": [
      "/home/jacquerie/.envs/keras/local/lib/python2.7/site-packages/h5py/__init__.py:36: FutureWarning: Conversion of the second argument of issubdtype from `float` to `np.floating` is deprecated. In future, it will be treated as `np.float64 == np.dtype(float).type`.\n",
      "  from ._conv import register_converters as _register_converters\n",
      "Using TensorFlow backend.\n"
     ]
    }
   ],
   "source": [
    "from collections import Counter\n",
    "\n",
    "import matplotlib.pyplot as plt\n",
    "from keras.layers import Embedding, Dense, Flatten\n",
    "from keras.models import Sequential\n",
    "from keras.preprocessing.sequence import pad_sequences\n",
    "from keras.preprocessing.text import Tokenizer\n",
    "from keras.utils import to_categorical"
   ]
  },
  {
   "cell_type": "code",
   "execution_count": 2,
   "metadata": {},
   "outputs": [],
   "source": [
    "texts, labels = [], []\n",
    "\n",
    "with open('data.txt') as f:\n",
    "    for line in f:\n",
    "        text, label = line.strip().split(' ENDABSTRACTS ')\n",
    "        \n",
    "        text = text.replace(' ENDABSTRACT ', '. ')\n",
    "        text = text.replace(' ENDTITLE ', '. ')\n",
    "        text = text.replace(' ENDTITLES ', '. ')\n",
    "        \n",
    "        if label == 'CORE':\n",
    "            label = 1\n",
    "        elif label == 'Non-CORE':\n",
    "            label = 0\n",
    "        elif label == 'Rejected':\n",
    "            label = -1\n",
    "        \n",
    "        texts.append(text)\n",
    "        labels.append(label)"
   ]
  },
  {
   "cell_type": "code",
   "execution_count": 3,
   "metadata": {},
   "outputs": [],
   "source": [
    "tokenizer = Tokenizer(num_words=10000)\n",
    "tokenizer.fit_on_texts(texts)\n",
    "sequences = tokenizer.texts_to_sequences(texts)\n",
    "data = pad_sequences(sequences, maxlen=100)"
   ]
  },
  {
   "cell_type": "code",
   "execution_count": 4,
   "metadata": {},
   "outputs": [],
   "source": [
    "labels = to_categorical(labels, num_classes=3)"
   ]
  },
  {
   "cell_type": "code",
   "execution_count": 5,
   "metadata": {},
   "outputs": [],
   "source": [
    "training_samples = 3 * len(data) // 5\n",
    "validation_samples = len(data) // 5"
   ]
  },
  {
   "cell_type": "code",
   "execution_count": 6,
   "metadata": {},
   "outputs": [],
   "source": [
    "x_train = data[:training_samples]\n",
    "y_train = labels[:training_samples]\n",
    "x_val = data[training_samples:training_samples + validation_samples]\n",
    "y_val = labels[training_samples:training_samples + validation_samples]\n",
    "x_test = data[training_samples + validation_samples:]\n",
    "y_test = labels[training_samples + validation_samples:]"
   ]
  },
  {
   "cell_type": "code",
   "execution_count": 7,
   "metadata": {},
   "outputs": [
    {
     "data": {
      "text/plain": [
       "Counter({0: 1455, 1: 1628, 2: 18335})"
      ]
     },
     "execution_count": 7,
     "metadata": {},
     "output_type": "execute_result"
    }
   ],
   "source": [
    "Counter(y.argmax() for y in y_train)"
   ]
  },
  {
   "cell_type": "code",
   "execution_count": 8,
   "metadata": {},
   "outputs": [
    {
     "name": "stdout",
     "output_type": "stream",
     "text": [
      "_________________________________________________________________\n",
      "Layer (type)                 Output Shape              Param #   \n",
      "=================================================================\n",
      "embedding_1 (Embedding)      (None, 100, 100)          1000000   \n",
      "_________________________________________________________________\n",
      "flatten_1 (Flatten)          (None, 10000)             0         \n",
      "_________________________________________________________________\n",
      "dense_1 (Dense)              (None, 32)                320032    \n",
      "_________________________________________________________________\n",
      "dense_2 (Dense)              (None, 32)                1056      \n",
      "_________________________________________________________________\n",
      "dense_3 (Dense)              (None, 3)                 99        \n",
      "=================================================================\n",
      "Total params: 1,321,187\n",
      "Trainable params: 1,321,187\n",
      "Non-trainable params: 0\n",
      "_________________________________________________________________\n"
     ]
    }
   ],
   "source": [
    "model = Sequential()\n",
    "model.add(Embedding(10000, 100, input_length=100))\n",
    "model.add(Flatten())\n",
    "model.add(Dense(32, activation='relu'))\n",
    "model.add(Dense(32, activation='relu'))\n",
    "model.add(Dense(3, activation='softmax'))\n",
    "model.summary()"
   ]
  },
  {
   "cell_type": "code",
   "execution_count": 9,
   "metadata": {},
   "outputs": [],
   "source": [
    "model.compile(optimizer='rmsprop', loss='categorical_crossentropy', metrics=['acc'])"
   ]
  },
  {
   "cell_type": "code",
   "execution_count": 10,
   "metadata": {},
   "outputs": [
    {
     "name": "stdout",
     "output_type": "stream",
     "text": [
      "Train on 21418 samples, validate on 7139 samples\n",
      "Epoch 1/10\n",
      "21418/21418 [==============================] - 13s 614us/step - loss: 2.2606 - acc: 0.7630 - val_loss: 0.6405 - val_acc: 0.7692\n",
      "Epoch 2/10\n",
      "21418/21418 [==============================] - 13s 620us/step - loss: 1.2593 - acc: 0.8310 - val_loss: 0.4206 - val_acc: 0.8532\n",
      "Epoch 3/10\n",
      "21418/21418 [==============================] - 14s 644us/step - loss: 0.4219 - acc: 0.9485 - val_loss: 0.5406 - val_acc: 0.8428\n",
      "Epoch 4/10\n",
      "21418/21418 [==============================] - 15s 682us/step - loss: 0.2122 - acc: 0.9815 - val_loss: 0.5408 - val_acc: 0.8518\n",
      "Epoch 5/10\n",
      "21418/21418 [==============================] - 14s 631us/step - loss: 0.1534 - acc: 0.9885 - val_loss: 0.6098 - val_acc: 0.8547\n",
      "Epoch 6/10\n",
      "21418/21418 [==============================] - 12s 576us/step - loss: 0.1182 - acc: 0.9910 - val_loss: 0.7663 - val_acc: 0.8605\n",
      "Epoch 7/10\n",
      "21418/21418 [==============================] - 10s 465us/step - loss: 0.1164 - acc: 0.9920 - val_loss: 0.7357 - val_acc: 0.8377\n",
      "Epoch 8/10\n",
      "21418/21418 [==============================] - 10s 445us/step - loss: 0.0979 - acc: 0.9929 - val_loss: 0.8485 - val_acc: 0.8417\n",
      "Epoch 9/10\n",
      "21418/21418 [==============================] - 10s 486us/step - loss: 0.0808 - acc: 0.9943 - val_loss: 0.9315 - val_acc: 0.8535\n",
      "Epoch 10/10\n",
      "21418/21418 [==============================] - 11s 497us/step - loss: 0.0751 - acc: 0.9945 - val_loss: 1.0455 - val_acc: 0.8744\n"
     ]
    }
   ],
   "source": [
    "history = model.fit(x_train, y_train, epochs=10, batch_size=32, class_weight={0: 12.60, 1: 11.26, 2: 1.0}, validation_data=(x_val, y_val))"
   ]
  },
  {
   "cell_type": "code",
   "execution_count": 11,
   "metadata": {},
   "outputs": [
    {
     "data": {
      "image/png": "[encoded data removed]",
      "text/plain": [
       "<Figure size 1152x648 with 1 Axes>"
      ]
     },
     "metadata": {},
     "output_type": "display_data"
    }
   ],
   "source": [
    "acc = history.history['acc']\n",
    "val_acc = history.history['val_acc']\n",
    "\n",
    "epochs = range(1, len(acc) + 1)\n",
    "\n",
    "plt.figure(figsize=(16, 9))\n",
    "plt.plot(epochs, acc, 'bo', label='Training acc')\n",
    "plt.plot(epochs, val_acc, 'b', label='Validation acc')\n",
    "plt.title('Training and validation accuracy')\n",
    "plt.legend()\n",
    "\n",
    "plt.show()"
   ]
  },
  {
   "cell_type": "code",
   "execution_count": 12,
   "metadata": {
    "scrolled": true
   },
   "outputs": [
    {
     "name": "stdout",
     "output_type": "stream",
     "text": [
      "_________________________________________________________________\n",
      "Layer (type)                 Output Shape              Param #   \n",
      "=================================================================\n",
      "embedding_2 (Embedding)      (None, 100, 100)          1000000   \n",
      "_________________________________________________________________\n",
      "flatten_2 (Flatten)          (None, 10000)             0         \n",
      "_________________________________________________________________\n",
      "dense_4 (Dense)              (None, 32)                320032    \n",
      "_________________________________________________________________\n",
      "dense_5 (Dense)              (None, 32)                1056      \n",
      "_________________________________________________________________\n",
      "dense_6 (Dense)              (None, 3)                 99        \n",
      "=================================================================\n",
      "Total params: 1,321,187\n",
      "Trainable params: 1,321,187\n",
      "Non-trainable params: 0\n",
      "_________________________________________________________________\n"
     ]
    }
   ],
   "source": [
    "model = Sequential()\n",
    "model.add(Embedding(10000, 100, input_length=100))\n",
    "model.add(Flatten())\n",
    "model.add(Dense(32, activation='relu'))\n",
    "model.add(Dense(32, activation='relu'))\n",
    "model.add(Dense(3, activation='softmax'))\n",
    "model.summary()"
   ]
  },
  {
   "cell_type": "code",
   "execution_count": 13,
   "metadata": {},
   "outputs": [],
   "source": [
    "model.compile(optimizer='rmsprop', loss='categorical_crossentropy', metrics=['acc'])"
   ]
  },
  {
   "cell_type": "code",
   "execution_count": 14,
   "metadata": {},
   "outputs": [
    {
     "name": "stdout",
     "output_type": "stream",
     "text": [
      "Train on 21418 samples, validate on 7139 samples\n",
      "Epoch 1/3\n",
      "21418/21418 [==============================] - 10s 486us/step - loss: 2.2712 - acc: 0.7611 - val_loss: 0.5524 - val_acc: 0.8385\n",
      "Epoch 2/3\n",
      "21418/21418 [==============================] - 10s 465us/step - loss: 1.2021 - acc: 0.8460 - val_loss: 0.5420 - val_acc: 0.7983\n",
      "Epoch 3/3\n",
      "21418/21418 [==============================] - 10s 471us/step - loss: 0.3654 - acc: 0.9559 - val_loss: 0.5205 - val_acc: 0.8678\n"
     ]
    }
   ],
   "source": [
    "history = model.fit(x_train, y_train, epochs=3, batch_size=32, class_weight={0: 12.60, 1: 11.26, 2: 1.0}, validation_data=(x_val, y_val))"
   ]
  },
  {
   "cell_type": "code",
   "execution_count": 15,
   "metadata": {},
   "outputs": [
    {
     "name": "stdout",
     "output_type": "stream",
     "text": [
      "7141/7141 [==============================] - 0s 56us/step\n"
     ]
    }
   ],
   "source": [
    "_, acc = model.evaluate(x_test, y_test)"
   ]
  },
  {
   "cell_type": "code",
   "execution_count": 16,
   "metadata": {},
   "outputs": [
    {
     "data": {
      "text/plain": [
       "0.8722867945665873"
      ]
     },
     "execution_count": 16,
     "metadata": {},
     "output_type": "execute_result"
    }
   ],
   "source": [
    "acc"
   ]
  }
 ],
 "metadata": {
  "kernelspec": {
   "display_name": "Python 2",
   "language": "python",
   "name": "python2"
  },
  "language_info": {
   "codemirror_mode": {
    "name": "ipython",
    "version": 2
   },
   "file_extension": ".py",
   "mimetype": "text/x-python",
   "name": "python",
   "nbconvert_exporter": "python",
   "pygments_lexer": "ipython2",
   "version": "2.7.12"
  }
 },
 "nbformat": 4,
 "nbformat_minor": 2
}
